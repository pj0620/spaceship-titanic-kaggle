{
 "cells": [
  {
   "cell_type": "markdown",
   "id": "7c0597f1-c47c-402a-9a87-62b91715a18e",
   "metadata": {},
   "source": [
    "# Spaceship Titanic Kaggle Competition\n",
    "My attempt at this Kaggle Competition [link](https://www.kaggle.com/competitions/spaceship-titanic/data)"
   ]
  },
  {
   "cell_type": "code",
   "execution_count": 157,
   "id": "58c6acb7-9d7a-4bbb-bd0f-c5dcb8f70d48",
   "metadata": {},
   "outputs": [
    {
     "name": "stdout",
     "output_type": "stream",
     "text": [
      "Note: you may need to restart the kernel to use updated packages.\n"
     ]
    }
   ],
   "source": [
    "%pip install kaggle pandas numpy matplotlib scikit-learn > /dev/null\n",
    "\n",
    "import pandas as pd\n",
    "import numpy as np\n",
    "import matplotlib.pyplot as plt"
   ]
  },
  {
   "cell_type": "markdown",
   "id": "5db459f1-5dad-448b-8923-92eddd9ad10d",
   "metadata": {},
   "source": [
    "## Downloading Dataset"
   ]
  },
  {
   "cell_type": "code",
   "execution_count": 10,
   "id": "d890346e-a6e5-4317-aee8-9a9e8402a099",
   "metadata": {},
   "outputs": [],
   "source": [
    "from kaggle.api.kaggle_api_extended import KaggleApi\n",
    "import os\n",
    "import zipfile\n",
    "\n",
    "# Create the data folder if it doesn't exist\n",
    "os.makedirs('data', exist_ok=True)\n",
    "\n",
    "# Authenticate and download the dataset files\n",
    "api = KaggleApi()\n",
    "api.authenticate()\n",
    "api.competition_download_files('spaceship-titanic', path='data')\n",
    "\n",
    "try: \n",
    "    with zipfile.ZipFile('data/spaceship-titanic.zip', 'r') as zip_ref:\n",
    "        zip_ref.extractall('data')\n",
    "except Exception as e:\n",
    "    print('Could not unzip file', e)"
   ]
  },
  {
   "cell_type": "code",
   "execution_count": 108,
   "id": "cf0596c7-a7a4-4d05-b1ba-d73c4a21e502",
   "metadata": {},
   "outputs": [],
   "source": [
    "data_raw_all = pd.read_csv('data/train.csv')\n",
    "data_raw_val = pd.read_csv('data/test.csv')"
   ]
  },
  {
   "cell_type": "code",
   "execution_count": 109,
   "id": "b7dcd1d0-5b0b-4033-b790-7654a1e0e1c4",
   "metadata": {},
   "outputs": [
    {
     "name": "stdout",
     "output_type": "stream",
     "text": [
      "<class 'pandas.core.frame.DataFrame'>\n",
      "RangeIndex: 8693 entries, 0 to 8692\n",
      "Data columns (total 14 columns):\n",
      " #   Column        Non-Null Count  Dtype  \n",
      "---  ------        --------------  -----  \n",
      " 0   PassengerId   8693 non-null   object \n",
      " 1   HomePlanet    8492 non-null   object \n",
      " 2   CryoSleep     8476 non-null   object \n",
      " 3   Cabin         8494 non-null   object \n",
      " 4   Destination   8511 non-null   object \n",
      " 5   Age           8514 non-null   float64\n",
      " 6   VIP           8490 non-null   object \n",
      " 7   RoomService   8512 non-null   float64\n",
      " 8   FoodCourt     8510 non-null   float64\n",
      " 9   ShoppingMall  8485 non-null   float64\n",
      " 10  Spa           8510 non-null   float64\n",
      " 11  VRDeck        8505 non-null   float64\n",
      " 12  Name          8493 non-null   object \n",
      " 13  Transported   8693 non-null   bool   \n",
      "dtypes: bool(1), float64(6), object(7)\n",
      "memory usage: 891.5+ KB\n"
     ]
    }
   ],
   "source": [
    "data_raw_all.info()"
   ]
  },
  {
   "cell_type": "markdown",
   "id": "668bb2d9-8d19-4119-b52b-c5af671fb1f9",
   "metadata": {},
   "source": [
    "# Exploring Data"
   ]
  },
  {
   "cell_type": "markdown",
   "id": "38a6cb5e-6b4a-4e17-a8f2-e27101eaf709",
   "metadata": {},
   "source": [
    "## Cabins"
   ]
  },
  {
   "cell_type": "markdown",
   "id": "78c84c09-0b0a-43d6-8697-fda91721e8ff",
   "metadata": {},
   "source": [
    "From the below it seems that each person is in a cabin 6561 cabins for 8693 people. Maybe it would be good to associate with each person `cabin_mates` which is equal to how many people are in their cabin with them."
   ]
  },
  {
   "cell_type": "code",
   "execution_count": 110,
   "id": "c8b80a0a-5c13-412e-822c-cfb6c90c2b58",
   "metadata": {},
   "outputs": [
    {
     "data": {
      "text/plain": [
       "(6561, 8693)"
      ]
     },
     "execution_count": 110,
     "metadata": {},
     "output_type": "execute_result"
    }
   ],
   "source": [
    "len(data_raw_all['Cabin'].unique()), len(data_raw_all['Cabin'])"
   ]
  },
  {
   "cell_type": "code",
   "execution_count": 111,
   "id": "3acba65a-67ab-436d-9983-f39e62773671",
   "metadata": {},
   "outputs": [
    {
     "data": {
      "text/html": [
       "<div>\n",
       "<style scoped>\n",
       "    .dataframe tbody tr th:only-of-type {\n",
       "        vertical-align: middle;\n",
       "    }\n",
       "\n",
       "    .dataframe tbody tr th {\n",
       "        vertical-align: top;\n",
       "    }\n",
       "\n",
       "    .dataframe thead th {\n",
       "        text-align: right;\n",
       "    }\n",
       "</style>\n",
       "<table border=\"1\" class=\"dataframe\">\n",
       "  <thead>\n",
       "    <tr style=\"text-align: right;\">\n",
       "      <th></th>\n",
       "      <th>Cabin</th>\n",
       "      <th>PassengerId</th>\n",
       "    </tr>\n",
       "  </thead>\n",
       "  <tbody>\n",
       "    <tr>\n",
       "      <th>0</th>\n",
       "      <td>B/0/P</td>\n",
       "      <td>0001_01</td>\n",
       "    </tr>\n",
       "    <tr>\n",
       "      <th>1</th>\n",
       "      <td>F/0/S</td>\n",
       "      <td>0002_01</td>\n",
       "    </tr>\n",
       "    <tr>\n",
       "      <th>2</th>\n",
       "      <td>A/0/S</td>\n",
       "      <td>0003_01</td>\n",
       "    </tr>\n",
       "    <tr>\n",
       "      <th>3</th>\n",
       "      <td>A/0/S</td>\n",
       "      <td>0003_02</td>\n",
       "    </tr>\n",
       "    <tr>\n",
       "      <th>4</th>\n",
       "      <td>F/1/S</td>\n",
       "      <td>0004_01</td>\n",
       "    </tr>\n",
       "    <tr>\n",
       "      <th>...</th>\n",
       "      <td>...</td>\n",
       "      <td>...</td>\n",
       "    </tr>\n",
       "    <tr>\n",
       "      <th>8688</th>\n",
       "      <td>A/98/P</td>\n",
       "      <td>9276_01</td>\n",
       "    </tr>\n",
       "    <tr>\n",
       "      <th>8689</th>\n",
       "      <td>G/1499/S</td>\n",
       "      <td>9278_01</td>\n",
       "    </tr>\n",
       "    <tr>\n",
       "      <th>8690</th>\n",
       "      <td>G/1500/S</td>\n",
       "      <td>9279_01</td>\n",
       "    </tr>\n",
       "    <tr>\n",
       "      <th>8691</th>\n",
       "      <td>E/608/S</td>\n",
       "      <td>9280_01</td>\n",
       "    </tr>\n",
       "    <tr>\n",
       "      <th>8692</th>\n",
       "      <td>E/608/S</td>\n",
       "      <td>9280_02</td>\n",
       "    </tr>\n",
       "  </tbody>\n",
       "</table>\n",
       "<p>8693 rows × 2 columns</p>\n",
       "</div>"
      ],
      "text/plain": [
       "         Cabin PassengerId\n",
       "0        B/0/P     0001_01\n",
       "1        F/0/S     0002_01\n",
       "2        A/0/S     0003_01\n",
       "3        A/0/S     0003_02\n",
       "4        F/1/S     0004_01\n",
       "...        ...         ...\n",
       "8688    A/98/P     9276_01\n",
       "8689  G/1499/S     9278_01\n",
       "8690  G/1500/S     9279_01\n",
       "8691   E/608/S     9280_01\n",
       "8692   E/608/S     9280_02\n",
       "\n",
       "[8693 rows x 2 columns]"
      ]
     },
     "execution_count": 111,
     "metadata": {},
     "output_type": "execute_result"
    }
   ],
   "source": [
    "data_raw_all[['Cabin', 'PassengerId']]"
   ]
  },
  {
   "cell_type": "code",
   "execution_count": 123,
   "id": "b6c03d48-2a6b-4a96-8367-0ae7f911fd97",
   "metadata": {},
   "outputs": [],
   "source": [
    "joined_cabin_counts = pd.concat([data_raw_all, data_raw_val])[['Cabin', 'PassengerId']].groupby('Cabin').count()\n",
    "joined_cabin_counts = joined_cabin_counts.rename(columns={'PassengerId': 'cabin_mates'})\n",
    "joined_cabin_counts\n",
    "\n",
    "data_raw_all_psg_cnt = data_raw_all.merge(cabin_counts, left_on='Cabin', right_on='Cabin')\n",
    "data_raw_val_psg_cnt = data_raw_val.merge(cabin_counts_val, left_on='Cabin', right_on='Cabin')"
   ]
  },
  {
   "cell_type": "code",
   "execution_count": 124,
   "id": "b9ac46c6-c3f4-4885-a222-b1dedbcb94e5",
   "metadata": {},
   "outputs": [
    {
     "data": {
      "text/plain": [
       "Index(['PassengerId', 'HomePlanet', 'CryoSleep', 'Cabin', 'Destination', 'Age',\n",
       "       'VIP', 'RoomService', 'FoodCourt', 'ShoppingMall', 'Spa', 'VRDeck',\n",
       "       'Name', 'Transported', 'cabin_mates'],\n",
       "      dtype='object')"
      ]
     },
     "execution_count": 124,
     "metadata": {},
     "output_type": "execute_result"
    }
   ],
   "source": [
    "data_raw_all_psg_cnt.columns"
   ]
  },
  {
   "cell_type": "code",
   "execution_count": 127,
   "id": "a15bbf43-1b2c-4a33-b227-ae2b81c26093",
   "metadata": {},
   "outputs": [
    {
     "data": {
      "text/plain": [
       "Text(0, 0.5, 'Frequency')"
      ]
     },
     "execution_count": 127,
     "metadata": {},
     "output_type": "execute_result"
    },
    {
     "data": {
      "image/png": "[encoded data removed]",
      "text/plain": [
       "<Figure size 640x480 with 1 Axes>"
      ]
     },
     "metadata": {},
     "output_type": "display_data"
    }
   ],
   "source": [
    "data_raw_all_psg_cnt['cabin_mates'].hist()\n",
    "plt.xlabel(\"Cabin Mates\")\n",
    "plt.ylabel(\"Frequency\")\n",
    "\n",
    "data_raw_val_psg_cnt['cabin_mates'].hist()\n",
    "plt.xlabel(\"Cabin Mates\")\n",
    "plt.ylabel(\"Frequency\")"
   ]
  },
  {
   "cell_type": "markdown",
   "id": "af6f3824-7e84-4a56-82e1-72e832fd8b89",
   "metadata": {},
   "source": [
    "## Closer look at Cabin Numbers\n",
    "\n",
    "It looks like cabin numbers have some underlying structure (for example: `G/1499/S` `B\\0\\P`). Let's try breaking them into columns and see if it is correlated"
   ]
  },
  {
   "cell_type": "code",
   "execution_count": 128,
   "id": "4139d213-1734-4bbb-af6a-812406ce95e1",
   "metadata": {},
   "outputs": [],
   "source": [
    "data_raw_all_psg_cnt[['c0', 'c1', 'c2']] = data_raw_all_psg_cnt['Cabin'].str.split('/', expand=True)\n",
    "data_raw_all_psg_cnt['c1'] = data_raw_all_psg_cnt['c1'].astype(np.float64)\n",
    "\n",
    "data_raw_val_psg_cnt[['c0', 'c1', 'c2']] = data_raw_val_psg_cnt['Cabin'].str.split('/', expand=True)\n",
    "data_raw_val_psg_cnt['c1'] = data_raw_val_psg_cnt['c1'].astype(np.float64)"
   ]
  },
  {
   "cell_type": "code",
   "execution_count": 119,
   "id": "fd1109b7-b37e-4eb6-b2a3-246587f72dae",
   "metadata": {},
   "outputs": [
    {
     "data": {
      "text/plain": [
       "array(['B', 'F', 'A', 'G', 'E', 'D', 'C', 'T'], dtype=object)"
      ]
     },
     "execution_count": 119,
     "metadata": {},
     "output_type": "execute_result"
    }
   ],
   "source": [
    "data_raw_all_psg_cnt['c0'].unique()"
   ]
  },
  {
   "cell_type": "code",
   "execution_count": 122,
   "id": "90fabb55-c55b-4df8-a4ab-2080fc81fc8f",
   "metadata": {},
   "outputs": [
    {
     "data": {
      "text/plain": [
       "<Axes: >"
      ]
     },
     "execution_count": 122,
     "metadata": {},
     "output_type": "execute_result"
    },
    {
     "data": {
      "image/png": "[encoded data removed]",
      "text/plain": [
       "<Figure size 640x480 with 1 Axes>"
      ]
     },
     "metadata": {},
     "output_type": "display_data"
    }
   ],
   "source": [
    "data_raw_all_psg_cnt['c1'].hist()"
   ]
  },
  {
   "cell_type": "code",
   "execution_count": 121,
   "id": "d2eceeb0-4f64-4081-a677-45dd56a54f14",
   "metadata": {},
   "outputs": [
    {
     "data": {
      "text/plain": [
       "array(['P', 'S'], dtype=object)"
      ]
     },
     "execution_count": 121,
     "metadata": {},
     "output_type": "execute_result"
    }
   ],
   "source": [
    "data_raw_all_psg_cnt['c2'].unique()"
   ]
  },
  {
   "cell_type": "markdown",
   "id": "908b1dc1-22ca-4611-a1e1-2d40d15fbaf9",
   "metadata": {},
   "source": [
    "## Names"
   ]
  },
  {
   "cell_type": "code",
   "execution_count": 165,
   "id": "b96405ad-e65d-45ef-b75b-fb769ad32e68",
   "metadata": {},
   "outputs": [
    {
     "data": {
      "text/plain": [
       "0       0\n",
       "1       1\n",
       "2       0\n",
       "3       0\n",
       "4       1\n",
       "       ..\n",
       "8489    0\n",
       "8490    0\n",
       "8491    1\n",
       "8492    0\n",
       "8493    1\n",
       "Name: Transported, Length: 8494, dtype: int64"
      ]
     },
     "execution_count": 165,
     "metadata": {},
     "output_type": "execute_result"
    }
   ],
   "source": [
    "data_raw_all_psg_cnt['Transported'].astype(np.int64)"
   ]
  },
  {
   "cell_type": "code",
   "execution_count": 184,
   "id": "41f37058-7705-4152-bd89-33a1673ac6ef",
   "metadata": {},
   "outputs": [
    {
     "data": {
      "text/html": [
       "<div>\n",
       "<style scoped>\n",
       "    .dataframe tbody tr th:only-of-type {\n",
       "        vertical-align: middle;\n",
       "    }\n",
       "\n",
       "    .dataframe tbody tr th {\n",
       "        vertical-align: top;\n",
       "    }\n",
       "\n",
       "    .dataframe thead th {\n",
       "        text-align: right;\n",
       "    }\n",
       "</style>\n",
       "<table border=\"1\" class=\"dataframe\">\n",
       "  <thead>\n",
       "    <tr style=\"text-align: right;\">\n",
       "      <th></th>\n",
       "      <th>ln_length</th>\n",
       "      <th>fn_length</th>\n",
       "      <th>y_enc</th>\n",
       "    </tr>\n",
       "  </thead>\n",
       "  <tbody>\n",
       "    <tr>\n",
       "      <th>0</th>\n",
       "      <td>9</td>\n",
       "      <td>5</td>\n",
       "      <td>0</td>\n",
       "    </tr>\n",
       "    <tr>\n",
       "      <th>1</th>\n",
       "      <td>5</td>\n",
       "      <td>6</td>\n",
       "      <td>1</td>\n",
       "    </tr>\n",
       "    <tr>\n",
       "      <th>2</th>\n",
       "      <td>6</td>\n",
       "      <td>6</td>\n",
       "      <td>0</td>\n",
       "    </tr>\n",
       "    <tr>\n",
       "      <th>3</th>\n",
       "      <td>6</td>\n",
       "      <td>5</td>\n",
       "      <td>0</td>\n",
       "    </tr>\n",
       "    <tr>\n",
       "      <th>4</th>\n",
       "      <td>11</td>\n",
       "      <td>5</td>\n",
       "      <td>1</td>\n",
       "    </tr>\n",
       "    <tr>\n",
       "      <th>...</th>\n",
       "      <td>...</td>\n",
       "      <td>...</td>\n",
       "      <td>...</td>\n",
       "    </tr>\n",
       "    <tr>\n",
       "      <th>8489</th>\n",
       "      <td>9</td>\n",
       "      <td>7</td>\n",
       "      <td>0</td>\n",
       "    </tr>\n",
       "    <tr>\n",
       "      <th>8490</th>\n",
       "      <td>9</td>\n",
       "      <td>5</td>\n",
       "      <td>0</td>\n",
       "    </tr>\n",
       "    <tr>\n",
       "      <th>8491</th>\n",
       "      <td>6</td>\n",
       "      <td>5</td>\n",
       "      <td>1</td>\n",
       "    </tr>\n",
       "    <tr>\n",
       "      <th>8492</th>\n",
       "      <td>9</td>\n",
       "      <td>6</td>\n",
       "      <td>0</td>\n",
       "    </tr>\n",
       "    <tr>\n",
       "      <th>8493</th>\n",
       "      <td>9</td>\n",
       "      <td>6</td>\n",
       "      <td>1</td>\n",
       "    </tr>\n",
       "  </tbody>\n",
       "</table>\n",
       "<p>8494 rows × 3 columns</p>\n",
       "</div>"
      ],
      "text/plain": [
       "      ln_length  fn_length  y_enc\n",
       "0             9          5      0\n",
       "1             5          6      1\n",
       "2             6          6      0\n",
       "3             6          5      0\n",
       "4            11          5      1\n",
       "...         ...        ...    ...\n",
       "8489          9          7      0\n",
       "8490          9          5      0\n",
       "8491          6          5      1\n",
       "8492          9          6      0\n",
       "8493          9          6      1\n",
       "\n",
       "[8494 rows x 3 columns]"
      ]
     },
     "execution_count": 184,
     "metadata": {},
     "output_type": "execute_result"
    }
   ],
   "source": [
    "from sklearn.preprocessing import OrdinalEncoder\n",
    "\n",
    "data_raw_all_psg_cnt[['first_name', 'last_name']] = data_raw_all_psg_cnt['Name'].str.split(' ', expand=True)\n",
    "data_raw_val_psg_cnt[['first_name', 'last_name']] = data_raw_val_psg_cnt['Name'].str.split(' ', expand=True)\n",
    "# data_raw_all_psg_cnt['last_name'] = data_raw_all_psg_cnt['last_name'].to_numeric(row, errors='coerce')\n",
    "# names.rename(columns={0: 'first_name', 1: 'last_name'}, inplace=True)\n",
    "\n",
    "# data_raw_all_psg_cnt[['first_name', 'last_name', 'Transported']]\n",
    "\n",
    "enc = OrdinalEncoder()\n",
    "# enc_x = enc.fit_transform(data_raw_all_psg_cnt['last_name'].values.reshape(-1, 1))\n",
    "def ln_length(row):\n",
    "    if pd.isna(row['last_name']):\n",
    "        return 0\n",
    "    return len(row['last_name'])\n",
    "def fn_length(row):\n",
    "    if pd.isna(row['first_name']):\n",
    "        return 0\n",
    "    return len(row['first_name'])\n",
    "\n",
    "data_raw_all_psg_cnt['ln_length'] = data_raw_all_psg_cnt.apply(ln_length, axis=1)\n",
    "data_raw_all_psg_cnt['fn_length'] = data_raw_all_psg_cnt.apply(fn_length, axis=1)\n",
    "data_raw_all_psg_cnt['y_enc'] = data_raw_all_psg_cnt['Transported'].astype(np.int64)\n",
    "\n",
    "data_raw_val_psg_cnt['ln_length'] = data_raw_val_psg_cnt.apply(ln_length, axis=1)\n",
    "data_raw_val_psg_cnt['fn_length'] = data_raw_val_psg_cnt.apply(fn_length, axis=1)\n",
    "\n",
    "data_raw_all_psg_cnt[['ln_length', 'fn_length', 'y_enc']]"
   ]
  },
  {
   "cell_type": "code",
   "execution_count": 185,
   "id": "af763fb9-9d3e-4ad5-8533-d3b9a93ca424",
   "metadata": {},
   "outputs": [
    {
     "ename": "KeyError",
     "evalue": "\"['y_enc'] not in index\"",
     "output_type": "error",
     "traceback": [
      "\u001b[0;31m---------------------------------------------------------------------------\u001b[0m",
      "\u001b[0;31mKeyError\u001b[0m                                  Traceback (most recent call last)",
      "Cell \u001b[0;32mIn[185], line 1\u001b[0m\n\u001b[0;32m----> 1\u001b[0m \u001b[43mdata_raw_val_psg_cnt\u001b[49m\u001b[43m[\u001b[49m\u001b[43m[\u001b[49m\u001b[38;5;124;43m'\u001b[39;49m\u001b[38;5;124;43mln_length\u001b[39;49m\u001b[38;5;124;43m'\u001b[39;49m\u001b[43m,\u001b[49m\u001b[43m \u001b[49m\u001b[38;5;124;43m'\u001b[39;49m\u001b[38;5;124;43mfn_length\u001b[39;49m\u001b[38;5;124;43m'\u001b[39;49m\u001b[43m,\u001b[49m\u001b[43m \u001b[49m\u001b[38;5;124;43m'\u001b[39;49m\u001b[38;5;124;43my_enc\u001b[39;49m\u001b[38;5;124;43m'\u001b[39;49m\u001b[43m]\u001b[49m\u001b[43m]\u001b[49m\u001b[38;5;241m.\u001b[39mcorr()[\u001b[38;5;124m'\u001b[39m\u001b[38;5;124my_enc\u001b[39m\u001b[38;5;124m'\u001b[39m]\n",
      "File \u001b[0;32m~/miniforge3/envs/jupyterlab/lib/python3.13/site-packages/pandas/core/frame.py:4108\u001b[0m, in \u001b[0;36mDataFrame.__getitem__\u001b[0;34m(self, key)\u001b[0m\n\u001b[1;32m   4106\u001b[0m     \u001b[38;5;28;01mif\u001b[39;00m is_iterator(key):\n\u001b[1;32m   4107\u001b[0m         key \u001b[38;5;241m=\u001b[39m \u001b[38;5;28mlist\u001b[39m(key)\n\u001b[0;32m-> 4108\u001b[0m     indexer \u001b[38;5;241m=\u001b[39m \u001b[38;5;28;43mself\u001b[39;49m\u001b[38;5;241;43m.\u001b[39;49m\u001b[43mcolumns\u001b[49m\u001b[38;5;241;43m.\u001b[39;49m\u001b[43m_get_indexer_strict\u001b[49m\u001b[43m(\u001b[49m\u001b[43mkey\u001b[49m\u001b[43m,\u001b[49m\u001b[43m \u001b[49m\u001b[38;5;124;43m\"\u001b[39;49m\u001b[38;5;124;43mcolumns\u001b[39;49m\u001b[38;5;124;43m\"\u001b[39;49m\u001b[43m)\u001b[49m[\u001b[38;5;241m1\u001b[39m]\n\u001b[1;32m   4110\u001b[0m \u001b[38;5;66;03m# take() does not accept boolean indexers\u001b[39;00m\n\u001b[1;32m   4111\u001b[0m \u001b[38;5;28;01mif\u001b[39;00m \u001b[38;5;28mgetattr\u001b[39m(indexer, \u001b[38;5;124m\"\u001b[39m\u001b[38;5;124mdtype\u001b[39m\u001b[38;5;124m\"\u001b[39m, \u001b[38;5;28;01mNone\u001b[39;00m) \u001b[38;5;241m==\u001b[39m \u001b[38;5;28mbool\u001b[39m:\n",
      "File \u001b[0;32m~/miniforge3/envs/jupyterlab/lib/python3.13/site-packages/pandas/core/indexes/base.py:6200\u001b[0m, in \u001b[0;36mIndex._get_indexer_strict\u001b[0;34m(self, key, axis_name)\u001b[0m\n\u001b[1;32m   6197\u001b[0m \u001b[38;5;28;01melse\u001b[39;00m:\n\u001b[1;32m   6198\u001b[0m     keyarr, indexer, new_indexer \u001b[38;5;241m=\u001b[39m \u001b[38;5;28mself\u001b[39m\u001b[38;5;241m.\u001b[39m_reindex_non_unique(keyarr)\n\u001b[0;32m-> 6200\u001b[0m \u001b[38;5;28;43mself\u001b[39;49m\u001b[38;5;241;43m.\u001b[39;49m\u001b[43m_raise_if_missing\u001b[49m\u001b[43m(\u001b[49m\u001b[43mkeyarr\u001b[49m\u001b[43m,\u001b[49m\u001b[43m \u001b[49m\u001b[43mindexer\u001b[49m\u001b[43m,\u001b[49m\u001b[43m \u001b[49m\u001b[43maxis_name\u001b[49m\u001b[43m)\u001b[49m\n\u001b[1;32m   6202\u001b[0m keyarr \u001b[38;5;241m=\u001b[39m \u001b[38;5;28mself\u001b[39m\u001b[38;5;241m.\u001b[39mtake(indexer)\n\u001b[1;32m   6203\u001b[0m \u001b[38;5;28;01mif\u001b[39;00m \u001b[38;5;28misinstance\u001b[39m(key, Index):\n\u001b[1;32m   6204\u001b[0m     \u001b[38;5;66;03m# GH 42790 - Preserve name from an Index\u001b[39;00m\n",
      "File \u001b[0;32m~/miniforge3/envs/jupyterlab/lib/python3.13/site-packages/pandas/core/indexes/base.py:6252\u001b[0m, in \u001b[0;36mIndex._raise_if_missing\u001b[0;34m(self, key, indexer, axis_name)\u001b[0m\n\u001b[1;32m   6249\u001b[0m     \u001b[38;5;28;01mraise\u001b[39;00m \u001b[38;5;167;01mKeyError\u001b[39;00m(\u001b[38;5;124mf\u001b[39m\u001b[38;5;124m\"\u001b[39m\u001b[38;5;124mNone of [\u001b[39m\u001b[38;5;132;01m{\u001b[39;00mkey\u001b[38;5;132;01m}\u001b[39;00m\u001b[38;5;124m] are in the [\u001b[39m\u001b[38;5;132;01m{\u001b[39;00maxis_name\u001b[38;5;132;01m}\u001b[39;00m\u001b[38;5;124m]\u001b[39m\u001b[38;5;124m\"\u001b[39m)\n\u001b[1;32m   6251\u001b[0m not_found \u001b[38;5;241m=\u001b[39m \u001b[38;5;28mlist\u001b[39m(ensure_index(key)[missing_mask\u001b[38;5;241m.\u001b[39mnonzero()[\u001b[38;5;241m0\u001b[39m]]\u001b[38;5;241m.\u001b[39munique())\n\u001b[0;32m-> 6252\u001b[0m \u001b[38;5;28;01mraise\u001b[39;00m \u001b[38;5;167;01mKeyError\u001b[39;00m(\u001b[38;5;124mf\u001b[39m\u001b[38;5;124m\"\u001b[39m\u001b[38;5;132;01m{\u001b[39;00mnot_found\u001b[38;5;132;01m}\u001b[39;00m\u001b[38;5;124m not in index\u001b[39m\u001b[38;5;124m\"\u001b[39m)\n",
      "\u001b[0;31mKeyError\u001b[0m: \"['y_enc'] not in index\""
     ]
    }
   ],
   "source": [
    "data_raw_val_psg_cnt[['ln_length', 'fn_length', 'y_enc']].corr()['y_enc']"
   ]
  },
  {
   "cell_type": "markdown",
   "id": "935297cd-f93e-459c-aaca-bb57f295355a",
   "metadata": {},
   "source": [
    "### From the above name length does have some correlation with survival!"
   ]
  },
  {
   "cell_type": "markdown",
   "id": "596913db-832a-40df-b9c0-a3de26fe7261",
   "metadata": {},
   "source": [
    "# Preprocessing"
   ]
  },
  {
   "cell_type": "code",
   "execution_count": 186,
   "id": "00dccfda-a8dc-413a-8ece-829b00df8d30",
   "metadata": {},
   "outputs": [],
   "source": [
    "num_cols = ['Age', 'c1', 'RoomService', 'FoodCourt', 'ShoppingMall', 'Spa', 'VRDeck', 'cabin_mates', 'ln_length', 'fn_length']\n",
    "str_cols = ['HomePlanet', 'c0', 'c2', 'Destination', 'CryoSleep', 'VIP']\n",
    "\n",
    "removed_cols = ['Cabin', 'Name']"
   ]
  },
  {
   "cell_type": "code",
   "execution_count": 191,
   "id": "29eeca87-d347-4d49-99f3-1a8d418f4696",
   "metadata": {},
   "outputs": [
    {
     "data": {
      "text/plain": [
       "array([[ 0.71251222, -1.17296632, -0.34237108, ...,  1.        ,\n",
       "         0.        ,  3.        ],\n",
       "       [-0.33354675, -1.17296632, -0.17065743, ...,  5.        ,\n",
       "         1.        ,  3.        ],\n",
       "       [ 2.03752026, -1.17296632, -0.27463083, ...,  0.        ,\n",
       "         1.        ,  3.        ],\n",
       "       ...,\n",
       "       [-0.19407222,  1.75765363, -0.34237108, ...,  6.        ,\n",
       "         1.        ,  3.        ],\n",
       "       [ 0.22435137,  0.01491164, -0.34237108, ...,  4.        ,\n",
       "         1.        ,  0.        ],\n",
       "       [ 1.06119855,  0.01491164, -0.1438764 , ...,  4.        ,\n",
       "         1.        ,  3.        ]], shape=(8494, 14))"
      ]
     },
     "execution_count": 191,
     "metadata": {},
     "output_type": "execute_result"
    }
   ],
   "source": [
    "from sklearn.pipeline import Pipeline\n",
    "from sklearn.compose import ColumnTransformer\n",
    "from sklearn.preprocessing import OrdinalEncoder, StandardScaler\n",
    "from sklearn.impute import SimpleImputer\n",
    "\n",
    "# Pipeline for categorical columns: Ordinal Encoding with NaN as a new category\n",
    "cat_pipeline = Pipeline([\n",
    "    ('imputer', SimpleImputer(strategy='constant', fill_value='Missing')),  # Replace NaNs with \"Missing\"\n",
    "    ('encoder', OrdinalEncoder(handle_unknown='use_encoded_value', unknown_value=-1))  # Encode categories\n",
    "])\n",
    "\n",
    "# Pipeline for numerical columns: Median imputation and scaling\n",
    "num_pipeline = Pipeline([\n",
    "    ('imputer', SimpleImputer(strategy='median')),  # Fill missing values with median\n",
    "    ('scaler', StandardScaler())  # Normalize numerical data\n",
    "])\n",
    "\n",
    "# Column Transformer: Applies different transformations to different column types\n",
    "preprocessor = ColumnTransformer([\n",
    "    ('num', num_pipeline, num_cols),\n",
    "    ('cat', cat_pipeline, str_cols)\n",
    "])\n",
    "\n",
    "y_all = data_raw_all_psg_cnt['Transported'].astype(np.int64)\n",
    "X_all = preprocessor.fit_transform(data_raw_all_psg_cnt)\n",
    "X_val = preprocessor.transform(data_raw_val_psg_cnt)\n",
    "\n",
    "X_all"
   ]
  },
  {
   "cell_type": "code",
   "execution_count": 193,
   "id": "de7fdb77-21f8-44a7-b9a4-782ace8e8025",
   "metadata": {},
   "outputs": [
    {
     "data": {
      "text/plain": [
       "(6795, 1699)"
      ]
     },
     "execution_count": 193,
     "metadata": {},
     "output_type": "execute_result"
    }
   ],
   "source": [
    "from sklearn.model_selection import train_test_split\n",
    "\n",
    "# Perform train-test split (80% train, 20% test)\n",
    "X_train, X_test, y_train, y_test = train_test_split(X_all, y_all, test_size=0.2, random_state=42)\n",
    "\n",
    "len(X_train), len(X_test)"
   ]
  },
  {
   "cell_type": "markdown",
   "id": "4b670a47-eedc-4f34-8eb4-e5bfdfbab7f4",
   "metadata": {},
   "source": [
    "# Classify"
   ]
  },
  {
   "cell_type": "code",
   "execution_count": 196,
   "id": "da54a071-addb-44d3-806a-8003c0877305",
   "metadata": {},
   "outputs": [
    {
     "name": "stdout",
     "output_type": "stream",
     "text": [
      "train_score=0.7760117733627667 test_score=0.7822248381400824\n"
     ]
    }
   ],
   "source": [
    "from sklearn.linear_model import LogisticRegression\n",
    "lin_reg = LogisticRegression().fit(X_train, y_train)\n",
    "train_score = lin_reg.score(X_train, y_train)\n",
    "test_score = lin_reg.score(X_test, y_test)\n",
    "\n",
    "print(f\"{train_score=} {test_score=}\")"
   ]
  },
  {
   "cell_type": "code",
   "execution_count": 197,
   "id": "13713369-a2a5-47a9-a0b6-3557c782a0f7",
   "metadata": {},
   "outputs": [
    {
     "name": "stdout",
     "output_type": "stream",
     "text": [
      "train_score=0.7311258278145696 test_score=0.72218952324897\n"
     ]
    }
   ],
   "source": [
    "from sklearn.linear_model import RidgeClassifier\n",
    "lin_reg = RidgeClassifier().fit(X_train, y_train)\n",
    "train_score = lin_reg.score(X_train, y_train)\n",
    "test_score = lin_reg.score(X_test, y_test)\n",
    "\n",
    "print(f\"{train_score=} {test_score=}\")"
   ]
  },
  {
   "cell_type": "code",
   "execution_count": 198,
   "id": "3d3f93db-9c9d-4ba7-9dd0-b3f67bd6dfbf",
   "metadata": {},
   "outputs": [
    {
     "name": "stdout",
     "output_type": "stream",
     "text": [
      "train_score=0.7751287711552612 test_score=0.7816362566215421\n"
     ]
    }
   ],
   "source": [
    "from sklearn.linear_model import SGDClassifier\n",
    "lin_reg = SGDClassifier().fit(X_train, y_train)\n",
    "train_score = lin_reg.score(X_train, y_train)\n",
    "test_score = lin_reg.score(X_test, y_test)\n",
    "\n",
    "print(f\"{train_score=} {test_score=}\")"
   ]
  },
  {
   "cell_type": "code",
   "execution_count": 199,
   "id": "0b31420b-07c0-49ff-b094-3493c7d4eecf",
   "metadata": {},
   "outputs": [
    {
     "name": "stdout",
     "output_type": "stream",
     "text": [
      "train_score=0.7689477557027226 test_score=0.7916421424367275\n"
     ]
    }
   ],
   "source": [
    "from sklearn.ensemble import AdaBoostClassifier\n",
    "lin_reg = AdaBoostClassifier().fit(X_train, y_train)\n",
    "train_score = lin_reg.score(X_train, y_train)\n",
    "test_score = lin_reg.score(X_test, y_test)\n",
    "\n",
    "print(f\"{train_score=} {test_score=}\")"
   ]
  },
  {
   "cell_type": "code",
   "execution_count": 200,
   "id": "78a65bbd-6cc8-4c50-aa85-ac49953e4879",
   "metadata": {},
   "outputs": [
    {
     "name": "stdout",
     "output_type": "stream",
     "text": [
      "train_score=0.9864606328182487 test_score=0.8016480282519128\n"
     ]
    }
   ],
   "source": [
    "from sklearn.ensemble import BaggingClassifier\n",
    "lin_reg = BaggingClassifier().fit(X_train, y_train)\n",
    "train_score = lin_reg.score(X_train, y_train)\n",
    "test_score = lin_reg.score(X_test, y_test)\n",
    "\n",
    "print(f\"{train_score=} {test_score=}\")"
   ]
  },
  {
   "cell_type": "code",
   "execution_count": 202,
   "id": "a1e0fccc-831f-4e24-a7fd-747506dd1109",
   "metadata": {},
   "outputs": [
    {
     "name": "stdout",
     "output_type": "stream",
     "text": [
      "train_score=0.8147167034584253 test_score=0.8128310771041789\n"
     ]
    }
   ],
   "source": [
    "from sklearn.ensemble import GradientBoostingClassifier\n",
    "lin_reg = GradientBoostingClassifier().fit(X_train, y_train)\n",
    "train_score = lin_reg.score(X_train, y_train)\n",
    "test_score = lin_reg.score(X_test, y_test)\n",
    "\n",
    "print(f\"{train_score=} {test_score=}\")"
   ]
  },
  {
   "cell_type": "code",
   "execution_count": 203,
   "id": "d5306393-dd34-4b66-8add-180d7e0fcc0d",
   "metadata": {},
   "outputs": [
    {
     "name": "stdout",
     "output_type": "stream",
     "text": [
      "train_score=0.8885945548197204 test_score=0.8187168922895821\n"
     ]
    }
   ],
   "source": [
    "from sklearn.ensemble import HistGradientBoostingClassifier\n",
    "lin_reg = HistGradientBoostingClassifier().fit(X_train, y_train)\n",
    "train_score = lin_reg.score(X_train, y_train)\n",
    "test_score = lin_reg.score(X_test, y_test)\n",
    "\n",
    "print(f\"{train_score=} {test_score=}\")"
   ]
  },
  {
   "cell_type": "code",
   "execution_count": 204,
   "id": "b90d47bb-46e2-47bb-9b89-7c4f4d3e59ad",
   "metadata": {},
   "outputs": [
    {
     "name": "stdout",
     "output_type": "stream",
     "text": [
      "train_score=0.9997056659308315 test_score=0.8193054738081225\n"
     ]
    }
   ],
   "source": [
    "from sklearn.ensemble import RandomForestClassifier\n",
    "lin_reg = RandomForestClassifier().fit(X_train, y_train)\n",
    "train_score = lin_reg.score(X_train, y_train)\n",
    "test_score = lin_reg.score(X_test, y_test)\n",
    "\n",
    "print(f\"{train_score=} {test_score=}\")"
   ]
  },
  {
   "cell_type": "code",
   "execution_count": 205,
   "id": "3a3df72c-1e9e-49eb-a2b4-379d35e9ee81",
   "metadata": {},
   "outputs": [
    {
     "name": "stdout",
     "output_type": "stream",
     "text": [
      "train_score=0.6896247240618102 test_score=0.6874632136550912\n"
     ]
    }
   ],
   "source": [
    "from sklearn.naive_bayes import GaussianNB\n",
    "lin_reg = GaussianNB().fit(X_train, y_train)\n",
    "train_score = lin_reg.score(X_train, y_train)\n",
    "test_score = lin_reg.score(X_test, y_test)\n",
    "\n",
    "print(f\"{train_score=} {test_score=}\")"
   ]
  },
  {
   "cell_type": "code",
   "execution_count": 206,
   "id": "35e6c595-7cd9-40a6-81d7-438dd21dec06",
   "metadata": {},
   "outputs": [
    {
     "name": "stdout",
     "output_type": "stream",
     "text": [
      "train_score=0.7537895511405445 test_score=0.761035903472631\n"
     ]
    }
   ],
   "source": [
    "from sklearn.naive_bayes import BernoulliNB\n",
    "lin_reg = BernoulliNB().fit(X_train, y_train)\n",
    "train_score = lin_reg.score(X_train, y_train)\n",
    "test_score = lin_reg.score(X_test, y_test)\n",
    "\n",
    "print(f\"{train_score=} {test_score=}\")"
   ]
  },
  {
   "cell_type": "code",
   "execution_count": 211,
   "id": "0798eb12-0be4-461b-bcc6-96148632ffd1",
   "metadata": {},
   "outputs": [
    {
     "name": "stdout",
     "output_type": "stream",
     "text": [
      "train_score=0.7760117733627667 test_score=0.785167745732784\n"
     ]
    }
   ],
   "source": [
    "from sklearn.svm import LinearSVC\n",
    "lin_reg = LinearSVC().fit(X_train, y_train)\n",
    "train_score = lin_reg.score(X_train, y_train)\n",
    "test_score = lin_reg.score(X_test, y_test)\n",
    "\n",
    "print(f\"{train_score=} {test_score=}\")"
   ]
  },
  {
   "cell_type": "code",
   "execution_count": 212,
   "id": "b795139f-a4fa-4da2-a98c-260a4090edfe",
   "metadata": {},
   "outputs": [
    {
     "name": "stdout",
     "output_type": "stream",
     "text": [
      "train_score=0.798822663723326 test_score=0.8004708652148322\n"
     ]
    }
   ],
   "source": [
    "from sklearn.svm import NuSVC\n",
    "lin_reg = NuSVC().fit(X_train, y_train)\n",
    "train_score = lin_reg.score(X_train, y_train)\n",
    "test_score = lin_reg.score(X_test, y_test)\n",
    "\n",
    "print(f\"{train_score=} {test_score=}\")"
   ]
  },
  {
   "cell_type": "code",
   "execution_count": 214,
   "id": "100aebdc-02be-43c8-a884-8d47b7f5fe31",
   "metadata": {},
   "outputs": [
    {
     "name": "stdout",
     "output_type": "stream",
     "text": [
      "train_score=0.427435646348595 test_score=0.4167742355561175\n"
     ]
    }
   ],
   "source": [
    "from sklearn.svm import SVR\n",
    "lin_reg = SVR().fit(X_train, y_train)\n",
    "train_score = lin_reg.score(X_train, y_train)\n",
    "test_score = lin_reg.score(X_test, y_test)\n",
    "\n",
    "print(f\"{train_score=} {test_score=}\")"
   ]
  },
  {
   "cell_type": "markdown",
   "id": "9c43e366-ca3f-4aff-806b-68b90ee55ddf",
   "metadata": {},
   "source": [
    "## BEST Classifier: RandomForestClassifier\n",
    "\n",
    "Fine tuning time"
   ]
  },
  {
   "cell_type": "code",
   "execution_count": null,
   "id": "3dbaf440-83a4-4e67-8164-c40f622722ea",
   "metadata": {},
   "outputs": [],
   "source": []
  },
  {
   "cell_type": "code",
   "execution_count": null,
   "id": "37e14ee1-516a-44b4-9ecd-112069dbb0be",
   "metadata": {},
   "outputs": [],
   "source": []
  },
  {
   "cell_type": "code",
   "execution_count": null,
   "id": "907a5d36-2993-4f75-b434-e3156248fa7c",
   "metadata": {},
   "outputs": [],
   "source": []
  },
  {
   "cell_type": "code",
   "execution_count": 138,
   "id": "044546ce-e53b-48df-a02a-6996d4d90bd7",
   "metadata": {},
   "outputs": [
    {
     "data": {
      "text/plain": [
       "0       False\n",
       "1        True\n",
       "2       False\n",
       "3       False\n",
       "4        True\n",
       "        ...  \n",
       "8489    False\n",
       "8490    False\n",
       "8491     True\n",
       "8492    False\n",
       "8493     True\n",
       "Name: Transported, Length: 8494, dtype: bool"
      ]
     },
     "execution_count": 138,
     "metadata": {},
     "output_type": "execute_result"
    }
   ],
   "source": [
    "data_raw_all_psg_cnt['Transported']"
   ]
  },
  {
   "cell_type": "code",
   "execution_count": null,
   "id": "2f7778f4-2e5a-4d3b-a9dd-00c9e9e16df8",
   "metadata": {},
   "outputs": [],
   "source": []
  }
 ],
 "metadata": {
  "kernelspec": {
   "display_name": "Python 3 (ipykernel)",
   "language": "python",
   "name": "python3"
  },
  "language_info": {
   "codemirror_mode": {
    "name": "ipython",
    "version": 3
   },
   "file_extension": ".py",
   "mimetype": "text/x-python",
   "name": "python",
   "nbconvert_exporter": "python",
   "pygments_lexer": "ipython3",
   "version": "3.13.2"
  }
 },
 "nbformat": 4,
 "nbformat_minor": 5
}
